{
 "cells": [
  {
   "cell_type": "code",
   "execution_count": null,
   "id": "60c3f641",
   "metadata": {},
   "outputs": [],
   "source": [
    "from pyspark.sql import SparkSession\n",
    "\n",
    "spark = SparkSession.builder \\\n",
    "    .appName(\"Iceberg\") \\\n",
    "    .master(\"spark://spark-iceberg:7077\") \\\n",
    "    .config(\"spark.sql.catalog.iceberg\", \"org.apache.iceberg.spark.SparkCatalog\") \\\n",
    "    .config(\"spark.sql.catalog.iceberg.type\", \"hadoop\") \\\n",
    "    .config(\"spark.sql.catalog.iceberg.warehouse\", \"s3a://warehouse/\") \\\n",
    "    .config(\"spark.sql.extensions\", \"org.apache.iceberg.spark.extensions.IcebergSparkSessionExtensions\") \\\n",
    "    .config(\"spark.hadoop.fs.s3a.access.key\", \"admin\") \\\n",
    "    .config(\"spark.hadoop.fs.s3a.secret.key\", \"password\") \\\n",
    "    .config(\"spark.hadoop.fs.s3a.endpoint\", \"http://localhost:9001\") \\\n",
    "    .config(\"spark.hadoop.fs.s3a.path.style.access\", \"true\") \\\n",
    "    .config(\"spark.hadoop.fs.s3a.impl\", \"org.apache.hadoop.fs.s3a.S3AFileSystem\") \\\n",
    "    .getOrCreate()\n",
    "\n",
    "print(\"PySpark started\")"
   ]
  },
  {
   "cell_type": "markdown",
   "id": "e773d1a3",
   "metadata": {},
   "source": [
    "Comandos gerais"
   ]
  },
  {
   "cell_type": "code",
   "execution_count": null,
   "id": "811e3fb2",
   "metadata": {},
   "outputs": [],
   "source": [
    "# Criação do DataFrame vazio com o esquema desejado\n",
    "\n",
    "from pyspark.sql.types import DoubleType, FloatType, LongType, StructType,StructField, StringType\n",
    "from pyspark.sql.types import *\n",
    "\n",
    "schema = StructType([\n",
    "    StructField(\"Matchday\", IntegerType(), True),\n",
    "    StructField(\"Date\", StringType(), True),\n",
    "    StructField(\"Time\", StringType(), True),\n",
    "    StructField(\"Home Team\", StringType(), True),\n",
    "    StructField(\"homeScore\", IntegerType(), True),\n",
    "    StructField(\"homeXG\", FloatType(), True),\n",
    "    StructField(\"awayScore\", IntegerType(), True),\n",
    "    StructField(\"awayXG\", FloatType(), True),\n",
    "    StructField(\"Away Team\", StringType(), True),\n",
    "    StructField(\"Attendance\", StringType(), True),  \n",
    "    StructField(\"Referee\", StringType(), True),\n",
    "    StructField(\"Stadium\", StringType(), True),\n",
    "    StructField(\"Result\", StringType(), True),\n",
    "    StructField(\"*Additional Stats\", StringType(), True)\n",
    "])\n",
    "\n",
    "\n",
    "df = spark.createDataFrame([], schema)\n",
    "df.writeTo(\"football.premier_league\").create()"
   ]
  },
  {
   "cell_type": "code",
   "execution_count": null,
   "id": "bbb1517b",
   "metadata": {},
   "outputs": [],
   "source": [
    "# Lê o CSV e salva como Parquet, depois insere no Iceberg\n",
    "\n",
    "# 1. Lê o CSV\n",
    "df_csv = spark.read.option(\"header\", \"true\").option(\"inferSchema\", \"true\").csv(\"PremierLeagueMatches.csv\")\n",
    "\n",
    "# 2. Salva como Parquet\n",
    "df_csv.write.mode(\"overwrite\").parquet(\"dados/parquet/premier_league\")\n",
    "\n",
    "# 3. Lê o Parquet de volta \n",
    "df_parquet = spark.read.parquet(\"dados/parquet/premier_league\")\n",
    "\n",
    "# 4. Insere no Iceberg\n",
    "df_parquet.writeTo(\"football.premier_league\").append()"
   ]
  },
  {
   "cell_type": "code",
   "execution_count": null,
   "id": "dd9129b3",
   "metadata": {},
   "outputs": [],
   "source": [
    "# Mostra a tabela inteira\n",
    "\n",
    "# equivalente ao SELECT * FROM football.premier_league\n",
    "spark.table(\"football.premier_league\").show()"
   ]
  },
  {
   "cell_type": "code",
   "execution_count": null,
   "id": "67529d55",
   "metadata": {},
   "outputs": [],
   "source": [
    "# Insere uma linha na tabela\n",
    "\n",
    "# Cria uma linha (linha de exemplo) com a data já convertida para o tipo Date\n",
    "data = [\n",
    "    (1, \"2022-08-05\", \"20:00\", \"Crystal Palace\", 0, 1.2, 2, 1.0, \"Arsenal\", \"25,286\", \"Anthony Taylor\", \"Selhurst Park\", \"A\", \"https://fbref.com//en/matches/e62f6e78/Crystal-Palace-Arsenal-August-5-2022-Premier-League\")\n",
    "]\n",
    "\n",
    "# Aqui, você já passa a data como uma string, pois o PySpark vai fazer a conversão automaticamente ao inserir\n",
    "df_single_row = spark.createDataFrame(data, schema)\n",
    "\n",
    "# Insere a linha na tabela do Iceberg\n",
    "df_single_row.writeTo(\"football.premier_league\").append()\n",
    "\n",
    "# Comando SQL equivalente:\n",
    "# INSERT INTO football.premier_league (Matchday, Date, Time, `Home Team`, homeScore, homeXG, awayScore, awayXG, `Away Team`, Attendance, Referee, Stadium, Result, `*Additional Stats`)\n",
    "# VALUES (1, '2022-08-05', '20:00', 'Crystal Palace', 0, 1.2, 2, 1.0, 'Arsenal', '25,286', 'Anthony Taylor', 'Selhurst Park', 'A', 'https://fbref.com//en/matches/e62f6e78/Crystal-Palace-Arsenal-August-5-2022-Premier-League');\n"
   ]
  },
  {
   "cell_type": "code",
   "execution_count": null,
   "id": "49eda655",
   "metadata": {},
   "outputs": [],
   "source": [
    "# Apaga todos os registros onde o time visitante é o Arsenal\n",
    "\n",
    "spark.sql('DELETE FROM football.premier_league WHERE `Away Team` = \"Arsenal\"')"
   ]
  },
  {
   "cell_type": "code",
   "execution_count": null,
   "id": "fe2e7796",
   "metadata": {},
   "outputs": [],
   "source": [
    "#Mostra todos os registros onde o time visitante é o Arsenal\n",
    "\n",
    "from pyspark.sql.functions import col\n",
    "\n",
    "\n",
    "# Equivalente SQL:\n",
    "# SELECT * FROM football.premier_league WHERE `Home Team` = 'Arsenal';\n",
    "df_arsenal_home = spark.read.table(\"football.premier_league\").filter(col(\"`Home Team`\") == \"Arsenal\")\n",
    "df_arsenal_home.show()"
   ]
  },
  {
   "cell_type": "code",
   "execution_count": null,
   "id": "0f84a8a6",
   "metadata": {},
   "outputs": [],
   "source": [
    "# Visualiza o dado \n",
    "\n",
    "df_result = spark.sql(\"\"\"\n",
    "    SELECT * FROM football.premier_league\n",
    "    WHERE `Home Team` = 'Fulham'\n",
    "      AND `Away Team` = 'Liverpool'\n",
    "      AND Date = '2022-08-06'\n",
    "\"\"\")\n",
    "df_result.show()"
   ]
  },
  {
   "cell_type": "code",
   "execution_count": null,
   "id": "ce8ed4e8",
   "metadata": {},
   "outputs": [],
   "source": [
    "# Atualiza o resultado de um jogo específico\n",
    "\n",
    "df = spark.sql(\"\"\"\n",
    "    UPDATE football.premier_league\n",
    "    SET homeScore = 3, awayScore = 1\n",
    "    WHERE `Home Team` = 'Fulham'\n",
    "      AND `Away Team` = 'Liverpool'\n",
    "      AND Date = '2022-08-06'\n",
    "\"\"\")"
   ]
  },
  {
   "cell_type": "code",
   "execution_count": null,
   "id": "21568426",
   "metadata": {},
   "outputs": [],
   "source": [
    "\n",
    "df = spark.sql(\"\"\"\n",
    "    DELETE FROM football.premier_league\n",
    "    WHERE `Home Team` = 'Fulham'\n",
    "      AND `Away Team` = 'Liverpool'\n",
    "      AND Date = '2022-08-06'\n",
    "\"\"\")"
   ]
  }
 ],
 "metadata": {
  "language_info": {
   "name": "python"
  }
 },
 "nbformat": 4,
 "nbformat_minor": 5
}
