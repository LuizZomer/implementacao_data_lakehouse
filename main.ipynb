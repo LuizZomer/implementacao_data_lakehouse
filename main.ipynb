{
 "cells": [
  {
   "cell_type": "code",
   "execution_count": null,
   "id": "60c3f641",
   "metadata": {},
   "outputs": [],
   "source": [
    "from pyspark.sql import SparkSession\n",
    "\n",
    "spark = SparkSession.builder \\\n",
    "    .appName(\"Iceberg\") \\\n",
    "    .master(\"spark://spark-iceberg:7077\") \\\n",
    "    .config(\"spark.sql.catalog.iceberg\", \"org.apache.iceberg.spark.SparkCatalog\") \\\n",
    "    .config(\"spark.sql.catalog.iceberg.type\", \"hadoop\") \\\n",
    "    .config(\"spark.sql.catalog.iceberg.warehouse\", \"s3a://warehouse/\") \\\n",
    "    .config(\"spark.sql.extensions\", \"org.apache.iceberg.spark.extensions.IcebergSparkSessionExtensions\") \\\n",
    "    .config(\"spark.hadoop.fs.s3a.access.key\", \"admin\") \\\n",
    "    .config(\"spark.hadoop.fs.s3a.secret.key\", \"password\") \\\n",
    "    .config(\"spark.hadoop.fs.s3a.endpoint\", \"http://localhost:9001\") \\\n",
    "    .config(\"spark.hadoop.fs.s3a.path.style.access\", \"true\") \\\n",
    "    .config(\"spark.hadoop.fs.s3a.impl\", \"org.apache.hadoop.fs.s3a.S3AFileSystem\") \\\n",
    "    .getOrCreate()\n",
    "\n",
    "print(\"PySpark started\")"
   ]
  },
  {
   "cell_type": "markdown",
   "id": "e773d1a3",
   "metadata": {},
   "source": [
    "Apenas exemplos e testes apartir de agora"
   ]
  },
  {
   "cell_type": "code",
   "execution_count": null,
   "id": "811e3fb2",
   "metadata": {},
   "outputs": [],
   "source": [
    "print(spark.version)"
   ]
  },
  {
   "cell_type": "code",
   "execution_count": null,
   "id": "5401c2d1",
   "metadata": {},
   "outputs": [],
   "source": [
    "spark.sql(\"SHOW TABLES IN iceberg.default\").show()"
   ]
  },
  {
   "cell_type": "code",
   "execution_count": null,
   "id": "428f105c",
   "metadata": {},
   "outputs": [],
   "source": [
    "data = [(\"Alice\", 30), (\"Bob\", 25), (\"Charlie\", 35)]\n",
    "columns = [\"name\", \"age\"]\n",
    "\n",
    "df = spark.createDataFrame(data, columns)\n",
    "\n",
    "table_name = \"iceberg.default.people\"\n",
    "\n",
    "df.writeTo(table_name).using(\"iceberg\").create()"
   ]
  },
  {
   "cell_type": "code",
   "execution_count": null,
   "id": "180f1a08",
   "metadata": {},
   "outputs": [],
   "source": [
    "spark.sql(f\"SHOW TABLES IN iceberg.default\").show()"
   ]
  },
  {
   "cell_type": "code",
   "execution_count": null,
   "id": "0040fd49",
   "metadata": {},
   "outputs": [],
   "source": [
    "spark.sql(f\"SELECT * FROM {table_name}\").show()"
   ]
  }
 ],
 "metadata": {
  "language_info": {
   "name": "python"
  }
 },
 "nbformat": 4,
 "nbformat_minor": 5
}
